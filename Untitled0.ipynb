{
  "nbformat": 4,
  "nbformat_minor": 0,
  "metadata": {
    "colab": {
      "provenance": [],
      "mount_file_id": "18Q9IkmYze6c3-IDUJyYXcN164fUEMuaN",
      "authorship_tag": "ABX9TyPee5H0qeyTC0tLs2TbZEwt"
    },
    "kernelspec": {
      "name": "python3",
      "display_name": "Python 3"
    },
    "language_info": {
      "name": "python"
    }
  },
  "cells": [
    {
      "cell_type": "code",
      "source": [
        "!pip install pixellib "
      ],
      "metadata": {
        "id": "mWgF6mrFF_pU"
      },
      "execution_count": null,
      "outputs": []
    },
    {
      "cell_type": "code",
      "execution_count": 18,
      "metadata": {
        "id": "qSj1S6oYfV-O"
      },
      "outputs": [],
      "source": [
        "import torch\n",
        "import numpy as np\n",
        "import os\n",
        "from pixellib.instance import instance_segmentation\n",
        "import matplotlib.pyplot as plt\n",
        "%matplotlib inline"
      ]
    },
    {
      "cell_type": "code",
      "source": [
        "from google.colab import drive\n",
        "drive.mount ('/content/gdrive')"
      ],
      "metadata": {
        "colab": {
          "base_uri": "https://localhost:8080/"
        },
        "id": "wZ2lkNgl2FTR",
        "outputId": "c31caf48-1298-4d82-eb48-c38916fc516f"
      },
      "execution_count": 5,
      "outputs": [
        {
          "output_type": "stream",
          "name": "stdout",
          "text": [
            "Drive already mounted at /content/gdrive; to attempt to forcibly remount, call drive.mount(\"/content/gdrive\", force_remount=True).\n"
          ]
        }
      ]
    },
    {
      "cell_type": "code",
      "source": [
        "model = torch.hub.load('ultralytics/yolov5', 'yolov5s', pretrained=True)"
      ],
      "metadata": {
        "colab": {
          "base_uri": "https://localhost:8080/"
        },
        "id": "at2CnZW15XeJ",
        "outputId": "e36da330-ef23-4428-ece3-8f4fbcdb4684"
      },
      "execution_count": 7,
      "outputs": [
        {
          "output_type": "stream",
          "name": "stderr",
          "text": [
            "Using cache found in /root/.cache/torch/hub/ultralytics_yolov5_master\n",
            "YOLOv5 🚀 2022-12-24 Python-3.8.16 torch-1.13.0+cu116 CPU\n",
            "\n",
            "Fusing layers... \n",
            "YOLOv5s summary: 213 layers, 7225885 parameters, 0 gradients\n",
            "Adding AutoShape... \n"
          ]
        }
      ]
    },
    {
      "cell_type": "code",
      "source": [
        "img_dir_path = '/content/drive/MyDrive/Images'\n",
        "\n",
        "img_files = []\n",
        "for filename in os.listdir(img_dir_path):\n",
        "  img_files.append(img_dir_path + '/' + filename)\n",
        "\n",
        "img_files"
      ],
      "metadata": {
        "id": "G0Yb_anu6m-f"
      },
      "execution_count": null,
      "outputs": []
    },
    {
      "cell_type": "code",
      "source": [
        "segment_image = instance_segmentation()\n",
        "target_class = segment_image.select_target_classes(person=True)"
      ],
      "metadata": {
        "id": "xlFt_PDEFf44"
      },
      "execution_count": 21,
      "outputs": []
    },
    {
      "cell_type": "code",
      "source": [
        "%time\n",
        "results = model(img_files)\n",
        "results"
      ],
      "metadata": {
        "id": "yStr6yrA8dun"
      },
      "execution_count": null,
      "outputs": []
    },
    {
      "cell_type": "code",
      "source": [
        "results.print()"
      ],
      "metadata": {
        "colab": {
          "base_uri": "https://localhost:8080/"
        },
        "id": "KRnBWYxP9NDd",
        "outputId": "5b6d761c-f54f-408e-f7b8-b19a14b46d94"
      },
      "execution_count": 27,
      "outputs": [
        {
          "output_type": "stream",
          "name": "stderr",
          "text": [
            "image 1/9: 859x1200 17 persons, 4 bicycles, 1 car, 1 traffic light, 1 backpack, 1 potted plant\n",
            "image 2/9: 1413x2000 20 persons, 8 cars, 3 buss, 6 traffic lights, 5 handbags\n",
            "image 3/9: 1800x2400 10 persons, 12 bicycles, 3 cars, 5 traffic lights\n",
            "image 4/9: 1201x800 1 bird, 1 dog\n",
            "image 5/9: 1370x2048 15 cars, 2 buss, 1 train, 4 traffic lights\n",
            "image 6/9: 850x1332 16 persons, 10 cars, 2 buss, 5 traffic lights, 3 potted plants\n",
            "image 7/9: 667x1000 2 persons, 1 bicycle, 5 cars, 2 trucks, 6 traffic lights, 1 handbag, 1 skateboard\n",
            "image 8/9: 638x960 4 persons, 5 cars, 1 bus, 1 traffic light\n",
            "image 9/9: 607x910 1 person, 1 train, 1 backpack, 1 handbag\n",
            "Speed: 71.3ms pre-process, 437.2ms inference, 1.5ms NMS per image at shape (9, 3, 640, 640)\n"
          ]
        }
      ]
    },
    {
      "cell_type": "code",
      "source": [
        "results.save()"
      ],
      "metadata": {
        "colab": {
          "base_uri": "https://localhost:8080/"
        },
        "id": "62fw3At_9j4D",
        "outputId": "5ac1b99d-6ac8-4296-873e-54664a3cc81f"
      },
      "execution_count": 24,
      "outputs": [
        {
          "output_type": "stream",
          "name": "stderr",
          "text": [
            "Saved 9 images to \u001b[1mruns/detect/exp2\u001b[0m\n"
          ]
        }
      ]
    },
    {
      "cell_type": "code",
      "source": [
        "results.pandas().xyxy[0]"
      ],
      "metadata": {
        "id": "mLjw_sba-kdB"
      },
      "execution_count": null,
      "outputs": []
    }
  ]
}